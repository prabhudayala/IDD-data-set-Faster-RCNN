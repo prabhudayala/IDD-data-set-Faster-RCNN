{
 "cells": [
  {
   "cell_type": "code",
   "execution_count": 13,
   "metadata": {},
   "outputs": [
    {
     "name": "stdout",
     "output_type": "stream",
     "text": [
      "elapsed time: 2628.7534703\n",
      "mean:[0.3638271812425986, 0.3739431116420524, 0.36170085574171257]\n",
      "std:[0.2917476987330653, 0.29673682706901383, 0.30520156913234947]\n"
     ]
    }
   ],
   "source": [
    "#https://gist.github.com/jdhao/9a86d4b9e4f79c5330d54de991461fd6\n",
    "\"\"\"\n",
    "in this script, we calculate the image per channel mean and standard\n",
    "deviation in the training set, do not calculate the statistics on the\n",
    "whole dataset, as per here http://cs231n.github.io/neural-networks-2/#datapre\n",
    "\"\"\"\n",
    "\n",
    "import numpy as np\n",
    "from os import listdir\n",
    "from os.path import join, isdir\n",
    "from glob import glob\n",
    "import cv2\n",
    "import timeit\n",
    "\n",
    "# number of channels of the dataset image, 3 for color jpg, 1 for grayscale img\n",
    "# you need to change it to reflect your dataset\n",
    "CHANNEL_NUM = 3\n",
    "\n",
    "\n",
    "def cal_dir_stat(root):\n",
    "    pixel_num = 0 # store all pixel number in the dataset\n",
    "    channel_sum = np.zeros(CHANNEL_NUM)\n",
    "    channel_sum_squared = np.zeros(CHANNEL_NUM)\n",
    "    \n",
    "    list_files = listdir(\"./train\")\n",
    "    final = [\"train/\"+i for i in list_files]\n",
    "    for path in final:\n",
    "        im = cv2.imread(path) # image in M*N*CHANNEL_NUM shape, channel in BGR order\n",
    "        im = im/255.0\n",
    "        pixel_num += (im.size/CHANNEL_NUM)\n",
    "        channel_sum += np.sum(im, axis=(0, 1))\n",
    "        channel_sum_squared += np.sum(np.square(im), axis=(0, 1))\n",
    "\n",
    "    bgr_mean = channel_sum / pixel_num\n",
    "    bgr_std = np.sqrt(channel_sum_squared / pixel_num - np.square(bgr_mean))\n",
    "    \n",
    "    # change the format from bgr to rgb\n",
    "    rgb_mean = list(bgr_mean)[::-1]\n",
    "    rgb_std = list(bgr_std)[::-1]\n",
    "    \n",
    "    return rgb_mean, rgb_std\n",
    "\n",
    "# The script assumes that under train_root, there are separate directories for each class\n",
    "# of training images.\n",
    "train_root = \"./train\"\n",
    "start = timeit.default_timer()\n",
    "mean, std = cal_dir_stat(train_root)\n",
    "end = timeit.default_timer()\n",
    "print(\"elapsed time: {}\".format(end-start))\n",
    "print(\"mean:{}\\nstd:{}\".format(mean, std))"
   ]
  },
  {
   "cell_type": "code",
   "execution_count": 14,
   "metadata": {},
   "outputs": [
    {
     "data": {
      "text/plain": [
       "92.77593121686265"
      ]
     },
     "execution_count": 14,
     "metadata": {},
     "output_type": "execute_result"
    }
   ],
   "source": [
    "0.3638271812425986*255"
   ]
  },
  {
   "cell_type": "code",
   "execution_count": 15,
   "metadata": {},
   "outputs": [
    {
     "data": {
      "text/plain": [
       "95.35549346872337"
      ]
     },
     "execution_count": 15,
     "metadata": {},
     "output_type": "execute_result"
    }
   ],
   "source": [
    "0.3739431116420524*255"
   ]
  },
  {
   "cell_type": "code",
   "execution_count": 16,
   "metadata": {},
   "outputs": [
    {
     "data": {
      "text/plain": [
       "92.2337182141367"
      ]
     },
     "execution_count": 16,
     "metadata": {},
     "output_type": "execute_result"
    }
   ],
   "source": [
    "0.36170085574171257*255"
   ]
  },
  {
   "cell_type": "code",
   "execution_count": null,
   "metadata": {},
   "outputs": [],
   "source": []
  }
 ],
 "metadata": {
  "kernelspec": {
   "display_name": "Python 3",
   "language": "python",
   "name": "python3"
  },
  "language_info": {
   "codemirror_mode": {
    "name": "ipython",
    "version": 3
   },
   "file_extension": ".py",
   "mimetype": "text/x-python",
   "name": "python",
   "nbconvert_exporter": "python",
   "pygments_lexer": "ipython3",
   "version": "3.6.9"
  }
 },
 "nbformat": 4,
 "nbformat_minor": 2
}
